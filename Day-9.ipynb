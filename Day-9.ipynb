{
 "cells": [
  {
   "cell_type": "markdown",
   "metadata": {},
   "source": [
    "# Exception Handling"
   ]
  },
  {
   "cell_type": "code",
   "execution_count": 1,
   "metadata": {
    "collapsed": false
   },
   "outputs": [
    {
     "name": "stdout",
     "output_type": "stream",
     "text": [
      "Enter a Number: 7\n",
      "Thank You..!!\n"
     ]
    }
   ],
   "source": [
    "# Error Handling first Program\n",
    "while True:\n",
    "    try:\n",
    "        x=int(raw_input(\"Enter a Number: \"))\n",
    "        break\n",
    "    except ValueError:\n",
    "        print \"Not an Number, Try Again...\"\n",
    "print \"Thank You..!!\""
   ]
  },
  {
   "cell_type": "code",
   "execution_count": 3,
   "metadata": {
    "collapsed": false
   },
   "outputs": [
    {
     "name": "stdout",
     "output_type": "stream",
     "text": [
      "Enter a Number: iuinjb\n",
      "Not an Number, Try Again...\n",
      "Enter a Number: i\n",
      "Not an Number, Try Again...\n",
      "Enter a Number: b\n",
      "Not an Number, Try Again...\n",
      "Enter a Number: 8888\n",
      "Thank You..!!\n"
     ]
    }
   ],
   "source": [
    "# Error Handling first Program\n",
    "while True:\n",
    "    try:\n",
    "        x=int(raw_input(\"Enter a Number: \"))\n",
    "        break\n",
    "    except ValueError:\n",
    "        print \"Not an Number, Try Again...\"\n",
    "print \"Thank You..!!\""
   ]
  },
  {
   "cell_type": "code",
   "execution_count": 6,
   "metadata": {
    "collapsed": false
   },
   "outputs": [
    {
     "name": "stdout",
     "output_type": "stream",
     "text": [
      "Enter a Number: rtr\n",
      "Not an Number, Try Again...\n",
      "Enter a Number: 5\n",
      "Thank You..!!\n"
     ]
    }
   ],
   "source": [
    "# Error Handling first Program\n",
    "while True:\n",
    "    try:\n",
    "        x=int(raw_input(\"Enter a Number: \"))\n",
    "        break\n",
    "    except:\n",
    "        print \"Not an Number, Try Again...\"\n",
    "print \"Thank You..!!\""
   ]
  },
  {
   "cell_type": "code",
   "execution_count": null,
   "metadata": {
    "collapsed": true
   },
   "outputs": [],
   "source": [
    "def temp_con():\n",
    "    while True:\n",
    "        try:\n",
    "            temp=int(raw_input(\"Enter Temperature: \"))\n",
    "            break\n",
    "        except:\n",
    "            print \"Enter Temperature in Float followed by c/f | Example 35.55c or 35.55C\"\n",
    "            return\n",
    "    t=float(temp[0:-1])  # String slicing Example\n",
    "    if temp[-1]==\"f\":\n",
    "        print\"Temperature is correct....\"\n",
    "        print t\n",
    "        c=((t-32)/9)*5\n",
    "        print \"Temperatre in Centigrade: \",c\n",
    "    elif temp[-1]==\"c\":\n",
    "        print t\n",
    "        f=((t/5)*9)+32\n",
    "        print \"Temperature in Fahrenheit: \",f"
   ]
  },
  {
   "cell_type": "code",
   "execution_count": null,
   "metadata": {
    "collapsed": false
   },
   "outputs": [],
   "source": [
    "temp_con()"
   ]
  },
  {
   "cell_type": "code",
   "execution_count": null,
   "metadata": {
    "collapsed": true
   },
   "outputs": [],
   "source": [
    "def temp_conv():\n",
    "    x= raw_input(\"Enter the temparature\")\n",
    "    temparature=x[-1]\n",
    "    while True:\n",
    "        try: \n",
    "            value = int(x[:-1])\n",
    "            break\n",
    "        except:\n",
    "            print \"The format of input is integer followed by C/F e.g. 25F\"\n",
    "            return\n",
    "    if (temparature.lower() == 'c'):\n",
    "        f= (value/5)+9\n",
    "        print \"temparature in faranhiet is:\",f,\"F\"\n",
    "    elif (temparature.lower() == 'f'):\n",
    "        c= (value+9)-2\n",
    "        print \"temparature in celsi:\",c,\"C\"\n",
    "    else:\n",
    "        print \"enter the value either in cel or far, input entered is invalid\"\n",
    "temp_conv()"
   ]
  },
  {
   "cell_type": "code",
   "execution_count": null,
   "metadata": {
    "collapsed": true
   },
   "outputs": [],
   "source": [
    "temp_conv(35c)"
   ]
  },
  {
   "cell_type": "code",
   "execution_count": null,
   "metadata": {
    "collapsed": true
   },
   "outputs": [],
   "source": []
  }
 ],
 "metadata": {
  "kernelspec": {
   "display_name": "Python 2",
   "language": "python",
   "name": "python2"
  },
  "language_info": {
   "codemirror_mode": {
    "name": "ipython",
    "version": 2
   },
   "file_extension": ".py",
   "mimetype": "text/x-python",
   "name": "python",
   "nbconvert_exporter": "python",
   "pygments_lexer": "ipython2",
   "version": "2.7.13"
  }
 },
 "nbformat": 4,
 "nbformat_minor": 2
}

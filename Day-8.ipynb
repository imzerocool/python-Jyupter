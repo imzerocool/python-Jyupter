{
 "cells": [
  {
   "cell_type": "markdown",
   "metadata": {},
   "source": [
    "# Classes and Object\n",
    "\n",
    "# Class:\n",
    "- classt has no physical existance, its an abstract which has features.\n",
    "\n",
    "- Cycle --> bycycle --> My-bycycle\n",
    "\n",
    "\n",
    "\n",
    "\n",
    "# Functions\n",
    "- len(string/list/set)  - function is generic with can take arguments.\n",
    "- dict(xxxxx) && len(object)\n",
    "\n",
    "# Object:\n",
    "- Instance of class is object.\n",
    "\n",
    "\n",
    "- Object has feature and functions.\n",
    "- Methods are associated with particular object.\n",
    "- Ex: string.append, list.join etc.\n",
    "- Ex: dict1.(methods)\n"
   ]
  },
  {
   "cell_type": "code",
   "execution_count": 83,
   "metadata": {
    "collapsed": false
   },
   "outputs": [],
   "source": [
    "# Coordinates Determination\n",
    "class point(object):\n",
    "    from math import sqrt\n",
    "    x=0\n",
    "    y=0\n",
    "    def __init__(self,x,y):   # Inbuilt function of python\n",
    "        x=self.x\n",
    "        y=self.y\n",
    "        #d=sqrt(x**(1/2)+(y**(1/2)))\n",
    "        #print d  \n",
    "    def print_point(object):\n",
    "        print \"Coordinates:\", object.x, object.y\n",
    "        print \"Multiply:\", object.x * object.y\n",
    "        print \"Addition:\", object.x+object.y  # till here it defination of class.\n",
    "    def distance(object):\n",
    "        a=pow(object.x,2)\n",
    "        b=pow(object.y,2)\n",
    "        add=a+b\n",
    "        dist= add**(1/2.0)\n",
    "        #dist2=sqrt(pow(object.x,2)+pow(object.y,2))\n",
    "        print \"Distance: \", dist"
   ]
  },
  {
   "cell_type": "code",
   "execution_count": 84,
   "metadata": {
    "collapsed": false
   },
   "outputs": [
    {
     "name": "stdout",
     "output_type": "stream",
     "text": [
      "Coordinates: 2 3\n",
      "Multiply: 6\n",
      "Addition: 5\n",
      "Distance:  3.60555127546\n"
     ]
    }
   ],
   "source": [
    "P1=point(2,3)   # here P1 is object to use the Class (point) and its Feature.\n",
    "P1.x=2\n",
    "P1.y=3\n",
    "P1.print_point()\n",
    "P1.distance()\n"
   ]
  },
  {
   "cell_type": "code",
   "execution_count": 86,
   "metadata": {
    "collapsed": false
   },
   "outputs": [
    {
     "name": "stdout",
     "output_type": "stream",
     "text": [
      "Coordinates: 5 6\n",
      "Multiply: 30\n",
      "Addition: 11\n",
      "Distance:  7.81024967591\n"
     ]
    }
   ],
   "source": [
    "p2=point(5,6)   # here p2 is object to use the Class (point) and its Feature.\n",
    "p2.x=5\n",
    "p2.y=6\n",
    "p2.print_point()\n",
    "p2.distance()"
   ]
  },
  {
   "cell_type": "code",
   "execution_count": null,
   "metadata": {
    "collapsed": true
   },
   "outputs": [],
   "source": [
    "# Class with real number and Imagenary Number.\n",
    "class compex ():\n",
    "    from math import sqrt\n",
    "    a=0\n",
    "    b=0\n",
    "    def __init__(self,a=0,b=0):   # Inbuilt function of python\n",
    "        x=self.x\n",
    "        y=self.y\n",
    "        #d=sqrt(x**(1/2)+(y**(1/2)))\n",
    "        #print d  \n",
    "    def print_point(object):\n",
    "        print \"Coordinates:\", object.a, object.b\n",
    "        print \"Multiply:\", object.a * object.b\n",
    "        print \"Addition:\", object.a+object.b\n",
    "        "
   ]
  }
 ],
 "metadata": {
  "kernelspec": {
   "display_name": "Python 2",
   "language": "python",
   "name": "python2"
  },
  "language_info": {
   "codemirror_mode": {
    "name": "ipython",
    "version": 2
   },
   "file_extension": ".py",
   "mimetype": "text/x-python",
   "name": "python",
   "nbconvert_exporter": "python",
   "pygments_lexer": "ipython2",
   "version": "2.7.13"
  }
 },
 "nbformat": 4,
 "nbformat_minor": 2
}

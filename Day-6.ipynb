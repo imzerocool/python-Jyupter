{
 "cells": [
  {
   "cell_type": "code",
   "execution_count": 1,
   "metadata": {
    "collapsed": true
   },
   "outputs": [],
   "source": [
    "# String Assignments\n",
    "#\n"
   ]
  },
  {
   "cell_type": "code",
   "execution_count": 21,
   "metadata": {
    "collapsed": false
   },
   "outputs": [
    {
     "name": "stdout",
     "output_type": "stream",
     "text": [
      "String containg digits\n"
     ]
    }
   ],
   "source": [
    "str=\"86836868\"\n",
    "def string(str):\n",
    "    if str.isdigit():\n",
    "        print \"String containg digits\"\n",
    "    else:\n",
    "        print \"String Doesnt Contains Digits Only\"\n",
    "        \n",
    "string(str)"
   ]
  },
  {
   "cell_type": "code",
   "execution_count": 59,
   "metadata": {
    "collapsed": false
   },
   "outputs": [
    {
     "name": "stdout",
     "output_type": "stream",
     "text": [
      "Total Vowels: 5\n"
     ]
    }
   ],
   "source": [
    "str2=\"abcdefghijklmnopqrstuvwxyz\"\n",
    "#vow=set(\"aeiou\")   #Here All the ways will work, tried diff diff ways to do it same purpose.\n",
    "#vow2 = \"a\",\"e\",\"o\",\"u\",\"i\"\n",
    "vow_list=[\"a\",\"e\",\"i\",\"o\",\"u\"]\n",
    "def string (str2):\n",
    "    count=0\n",
    "    for i in str2:\n",
    "        if i in vow_list:\n",
    "            count=count+1\n",
    "    print \"Total Vowels:\", count\n",
    "            \n",
    "string(str2)"
   ]
  },
  {
   "cell_type": "code",
   "execution_count": 58,
   "metadata": {
    "collapsed": false
   },
   "outputs": [
    {
     "name": "stdout",
     "output_type": "stream",
     "text": [
      "Total Vowels: 15\n"
     ]
    }
   ],
   "source": [
    "str3=\"aeiouaeiouaeioumnh\"\n",
    "string(str3)"
   ]
  },
  {
   "cell_type": "code",
   "execution_count": 95,
   "metadata": {
    "collapsed": false
   },
   "outputs": [
    {
     "name": "stdout",
     "output_type": "stream",
     "text": [
      "This%20is%20Mahesh%20Sharma's Mac Book Air\n"
     ]
    }
   ],
   "source": [
    "# Replacing blank with %20\n",
    "str4=\"This is Mahesh Sharma's Mac Book Air\"\n",
    "def string4(str4):\n",
    "    str5 = str4.replace(' ','%20',3)   # Example to replacing string with %20, Help is below!!\n",
    "    print str5\n",
    "\n",
    "string4(str4)"
   ]
  },
  {
   "cell_type": "code",
   "execution_count": 69,
   "metadata": {
    "collapsed": false
   },
   "outputs": [
    {
     "name": "stdout",
     "output_type": "stream",
     "text": [
      "Help on built-in function replace:\n",
      "\n",
      "replace(...)\n",
      "    S.replace(old, new[, count]) -> string\n",
      "    \n",
      "    Return a copy of string S with all occurrences of substring\n",
      "    old replaced by new.  If the optional argument count is\n",
      "    given, only the first count occurrences are replaced.\n",
      "\n"
     ]
    }
   ],
   "source": [
    "help(str4.replace)"
   ]
  },
  {
   "cell_type": "code",
   "execution_count": 139,
   "metadata": {
    "collapsed": false
   },
   "outputs": [
    {
     "name": "stdout",
     "output_type": "stream",
     "text": [
      "5\n",
      "da\n",
      "adlad\n",
      "l\n",
      "not palindrome\n"
     ]
    }
   ],
   "source": [
    "# String Palindrome\n",
    "str6=\"dalda\"\n",
    "def str_palin(str6):\n",
    "    print len(str6)\n",
    "    print str6[0:2]\n",
    "    #print str6.reverse()\n",
    "    #strp2=reversed(str6)\n",
    "    print str6[::-1]    # it will print reversed string in str6\n",
    "    print str6[-3]\n",
    "    if str6[0:2]==str6[:-2]:\n",
    "        print \"Palindrome\"\n",
    "    else:\n",
    "        print \"not palindrome\"\n",
    "str_palin(str6)"
   ]
  },
  {
   "cell_type": "code",
   "execution_count": 110,
   "metadata": {
    "collapsed": false
   },
   "outputs": [
    {
     "name": "stdout",
     "output_type": "stream",
     "text": [
      "Help on class reversed in module __builtin__:\n",
      "\n",
      "class reversed(object)\n",
      " |  reversed(sequence) -> reverse iterator over values of the sequence\n",
      " |  \n",
      " |  Return a reverse iterator\n",
      " |  \n",
      " |  Methods defined here:\n",
      " |  \n",
      " |  __getattribute__(...)\n",
      " |      x.__getattribute__('name') <==> x.name\n",
      " |  \n",
      " |  __iter__(...)\n",
      " |      x.__iter__() <==> iter(x)\n",
      " |  \n",
      " |  __length_hint__(...)\n",
      " |      Private method returning an estimate of len(list(it)).\n",
      " |  \n",
      " |  next(...)\n",
      " |      x.next() -> the next value, or raise StopIteration\n",
      " |  \n",
      " |  ----------------------------------------------------------------------\n",
      " |  Data and other attributes defined here:\n",
      " |  \n",
      " |  __new__ = <built-in method __new__ of type object>\n",
      " |      T.__new__(S, ...) -> a new object with type S, a subtype of T\n",
      "\n"
     ]
    }
   ],
   "source": [
    "help (reversed)"
   ]
  },
  {
   "cell_type": "code",
   "execution_count": 145,
   "metadata": {
    "collapsed": false
   },
   "outputs": [
    {
     "name": "stdout",
     "output_type": "stream",
     "text": [
      "5\n",
      "dalad is Palindrome\n"
     ]
    }
   ],
   "source": [
    "# String Palindrome\n",
    "str6=\"dalad\"\n",
    "def str_palin(str6):\n",
    "    print len(str6)\n",
    "    count = 1\n",
    "    for i in str6:\n",
    "        if i == str6[-count]:\n",
    "            count += 1\n",
    "            continue\n",
    "        else:\n",
    "            print \"String is Not Palindrome\"\n",
    "            return\n",
    "    print str6,\"is Palindrome\"\n",
    "    \n",
    "str_palin(str6)"
   ]
  },
  {
   "cell_type": "code",
   "execution_count": 155,
   "metadata": {
    "collapsed": false
   },
   "outputs": [
    {
     "name": "stdout",
     "output_type": "stream",
     "text": [
      "[6, 5, 4, 3, 2, 1]\n"
     ]
    }
   ],
   "source": [
    "list1=[1,2,3,4,5,6]\n",
    "list2 = list1\n",
    "list2.reverse()    # reverse is with list\n",
    "print list2"
   ]
  },
  {
   "cell_type": "code",
   "execution_count": 159,
   "metadata": {
    "collapsed": false
   },
   "outputs": [
    {
     "name": "stdout",
     "output_type": "stream",
     "text": [
      "MAHESH\n",
      "MAHESH\n"
     ]
    }
   ],
   "source": [
    "str7=\"Mahesh\"\n",
    "str8=str7.upper()  # one way\n",
    "print str7.upper()  # another way\n",
    "str7.\n",
    "print str8"
   ]
  },
  {
   "cell_type": "code",
   "execution_count": null,
   "metadata": {
    "collapsed": true
   },
   "outputs": [],
   "source": []
  }
 ],
 "metadata": {
  "kernelspec": {
   "display_name": "Python 2",
   "language": "python",
   "name": "python2"
  },
  "language_info": {
   "codemirror_mode": {
    "name": "ipython",
    "version": 2
   },
   "file_extension": ".py",
   "mimetype": "text/x-python",
   "name": "python",
   "nbconvert_exporter": "python",
   "pygments_lexer": "ipython2",
   "version": "2.7.13"
  }
 },
 "nbformat": 4,
 "nbformat_minor": 2
}

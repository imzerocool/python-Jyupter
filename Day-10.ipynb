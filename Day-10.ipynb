{
 "cells": [
  {
   "cell_type": "markdown",
   "metadata": {},
   "source": [
    "# File Handling"
   ]
  },
  {
   "cell_type": "code",
   "execution_count": 2,
   "metadata": {
    "collapsed": true
   },
   "outputs": [],
   "source": [
    "# File Handling\n",
    "f=open(\"/Users/zerocool/file_handling.txt\",\"w\")\n",
    "f.write(\"Hello World\")\n",
    "f.close()"
   ]
  },
  {
   "cell_type": "code",
   "execution_count": 28,
   "metadata": {
    "collapsed": false
   },
   "outputs": [
    {
     "name": "stdout",
     "output_type": "stream",
     "text": [
      "Hello WorldHello World\n",
      "Hello WorldHello World\n",
      "Hello WorldHello World\n",
      "Hello WorldHello World\n",
      "Hello WorldHello World\n",
      "Hello WorldHello World\n",
      "Hello World\n",
      "\n"
     ]
    }
   ],
   "source": [
    "# File Handling\n",
    "f=open(\"/Users/zerocool/file_handling\",\"a\")\n",
    "#f.truncate()\n",
    "f.write(\"Hello World\\n\")\n",
    "f.write(\"Hello World\\n\")\n",
    "g=open(\"/Users/zerocool/file_handling\",\"r\")\n",
    "g.readline()\n",
    "f1=g.read()\n",
    "print f1\n",
    "f.close()\n",
    "g.close()"
   ]
  },
  {
   "cell_type": "code",
   "execution_count": 29,
   "metadata": {
    "collapsed": false
   },
   "outputs": [
    {
     "data": {
      "text/plain": [
       "'Hello World\\nHello WorldHello World\\nHello WorldHello World\\nHello WorldHello World\\nHello WorldHello World\\nHello WorldHello World\\nHello WorldHello World\\nHello World\\nHello World\\nHello World\\n'"
      ]
     },
     "execution_count": 29,
     "metadata": {},
     "output_type": "execute_result"
    }
   ],
   "source": [
    "g=open(\"/Users/zerocool/file_handling\",\"r\")\n",
    "g.read()"
   ]
  },
  {
   "cell_type": "code",
   "execution_count": null,
   "metadata": {
    "collapsed": true
   },
   "outputs": [],
   "source": []
  }
 ],
 "metadata": {
  "kernelspec": {
   "display_name": "Python 2",
   "language": "python",
   "name": "python2"
  },
  "language_info": {
   "codemirror_mode": {
    "name": "ipython",
    "version": 2
   },
   "file_extension": ".py",
   "mimetype": "text/x-python",
   "name": "python",
   "nbconvert_exporter": "python",
   "pygments_lexer": "ipython2",
   "version": "2.7.13"
  }
 },
 "nbformat": 4,
 "nbformat_minor": 2
}
